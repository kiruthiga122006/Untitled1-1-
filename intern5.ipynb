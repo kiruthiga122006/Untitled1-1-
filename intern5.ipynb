{
  "nbformat": 4,
  "nbformat_minor": 0,
  "metadata": {
    "colab": {
      "provenance": []
    },
    "kernelspec": {
      "name": "python3",
      "display_name": "Python 3"
    },
    "language_info": {
      "name": "python"
    }
  },
  "cells": [
    {
      "cell_type": "code",
      "execution_count": 1,
      "metadata": {
        "id": "zCEIZGP-loj4"
      },
      "outputs": [],
      "source": [
        "#pip install beautifulsoup4\n"
      ]
    },
    {
      "cell_type": "code",
      "source": [
        "#pip install beautifulsoup4 requests\n"
      ],
      "metadata": {
        "id": "-Vs5NY96lurX"
      },
      "execution_count": 2,
      "outputs": []
    },
    {
      "cell_type": "code",
      "source": [
        "import requests\n",
        "\n"
      ],
      "metadata": {
        "id": "simevIDPl1iw"
      },
      "execution_count": 3,
      "outputs": []
    },
    {
      "cell_type": "code",
      "source": [
        "from bs4 import BeautifulSoup\n"
      ],
      "metadata": {
        "id": "E_BRUz3bmUrE"
      },
      "execution_count": 4,
      "outputs": []
    },
    {
      "cell_type": "code",
      "source": [
        "# Target URL\n",
        "url = \"http://books.toscrape.com\"\n",
        "\n"
      ],
      "metadata": {
        "id": "8gZ_D0FBmY5j"
      },
      "execution_count": 6,
      "outputs": []
    },
    {
      "cell_type": "code",
      "source": [
        "# Send a GET request\n",
        "response = requests.get(url)\n"
      ],
      "metadata": {
        "id": "gVw1zgz-mibZ"
      },
      "execution_count": 7,
      "outputs": []
    },
    {
      "cell_type": "code",
      "source": [
        "# Parse the HTML\n",
        "soup = BeautifulSoup(response.text, 'html.parser')\n"
      ],
      "metadata": {
        "id": "NNfAwDwvsC3w"
      },
      "execution_count": 8,
      "outputs": []
    },
    {
      "cell_type": "code",
      "source": [
        "# Find all book containers\n",
        "books = soup.find_all('article', class_='product_pod')\n",
        "\n"
      ],
      "metadata": {
        "id": "3t-tVZBPsHB9"
      },
      "execution_count": 9,
      "outputs": []
    },
    {
      "cell_type": "code",
      "source": [
        "for book in books:\n",
        "    title = book.h3.a['title']\n",
        "    price = book.find('p', class_='price_color').text\n",
        "    print(f\"Title: {title}\\nPrice: {price}\\n\")"
      ],
      "metadata": {
        "colab": {
          "base_uri": "https://localhost:8080/"
        },
        "id": "ZvXCDliYsO2d",
        "outputId": "d94603e7-24be-4237-dfdf-daaaaf72ca20"
      },
      "execution_count": 10,
      "outputs": [
        {
          "output_type": "stream",
          "name": "stdout",
          "text": [
            "Title: A Light in the Attic\n",
            "Price: Â£51.77\n",
            "\n",
            "Title: Tipping the Velvet\n",
            "Price: Â£53.74\n",
            "\n",
            "Title: Soumission\n",
            "Price: Â£50.10\n",
            "\n",
            "Title: Sharp Objects\n",
            "Price: Â£47.82\n",
            "\n",
            "Title: Sapiens: A Brief History of Humankind\n",
            "Price: Â£54.23\n",
            "\n",
            "Title: The Requiem Red\n",
            "Price: Â£22.65\n",
            "\n",
            "Title: The Dirty Little Secrets of Getting Your Dream Job\n",
            "Price: Â£33.34\n",
            "\n",
            "Title: The Coming Woman: A Novel Based on the Life of the Infamous Feminist, Victoria Woodhull\n",
            "Price: Â£17.93\n",
            "\n",
            "Title: The Boys in the Boat: Nine Americans and Their Epic Quest for Gold at the 1936 Berlin Olympics\n",
            "Price: Â£22.60\n",
            "\n",
            "Title: The Black Maria\n",
            "Price: Â£52.15\n",
            "\n",
            "Title: Starving Hearts (Triangular Trade Trilogy, #1)\n",
            "Price: Â£13.99\n",
            "\n",
            "Title: Shakespeare's Sonnets\n",
            "Price: Â£20.66\n",
            "\n",
            "Title: Set Me Free\n",
            "Price: Â£17.46\n",
            "\n",
            "Title: Scott Pilgrim's Precious Little Life (Scott Pilgrim #1)\n",
            "Price: Â£52.29\n",
            "\n",
            "Title: Rip it Up and Start Again\n",
            "Price: Â£35.02\n",
            "\n",
            "Title: Our Band Could Be Your Life: Scenes from the American Indie Underground, 1981-1991\n",
            "Price: Â£57.25\n",
            "\n",
            "Title: Olio\n",
            "Price: Â£23.88\n",
            "\n",
            "Title: Mesaerion: The Best Science Fiction Stories 1800-1849\n",
            "Price: Â£37.59\n",
            "\n",
            "Title: Libertarianism for Beginners\n",
            "Price: Â£51.33\n",
            "\n",
            "Title: It's Only the Himalayas\n",
            "Price: Â£45.17\n",
            "\n"
          ]
        }
      ]
    },
    {
      "cell_type": "code",
      "source": [
        "import pandas as pd"
      ],
      "metadata": {
        "id": "SwuCpT6Sse7r"
      },
      "execution_count": 11,
      "outputs": []
    },
    {
      "cell_type": "code",
      "source": [
        "# Find all book containers\n",
        "book_data = []\n",
        "books = soup.find_all('article', class_='product_pod')"
      ],
      "metadata": {
        "id": "KJKJZmP2wF_E"
      },
      "execution_count": 12,
      "outputs": []
    },
    {
      "cell_type": "code",
      "source": [
        "for book in books:\n",
        "    title = book.h3.a['title']\n",
        "    price = book.find('p', class_='price_color').text\n",
        "    print(f\"Title: {title}\\nPrice: {price}\\n\")\n",
        "    book_data.append({\"Title\": title, \"Price\":price})"
      ],
      "metadata": {
        "colab": {
          "base_uri": "https://localhost:8080/"
        },
        "id": "tk6ja2YFwuFk",
        "outputId": "57e5225c-e138-4f93-a6e5-6482a949eaf2"
      },
      "execution_count": 14,
      "outputs": [
        {
          "output_type": "stream",
          "name": "stdout",
          "text": [
            "Title: A Light in the Attic\n",
            "Price: Â£51.77\n",
            "\n",
            "Title: Tipping the Velvet\n",
            "Price: Â£53.74\n",
            "\n",
            "Title: Soumission\n",
            "Price: Â£50.10\n",
            "\n",
            "Title: Sharp Objects\n",
            "Price: Â£47.82\n",
            "\n",
            "Title: Sapiens: A Brief History of Humankind\n",
            "Price: Â£54.23\n",
            "\n",
            "Title: The Requiem Red\n",
            "Price: Â£22.65\n",
            "\n",
            "Title: The Dirty Little Secrets of Getting Your Dream Job\n",
            "Price: Â£33.34\n",
            "\n",
            "Title: The Coming Woman: A Novel Based on the Life of the Infamous Feminist, Victoria Woodhull\n",
            "Price: Â£17.93\n",
            "\n",
            "Title: The Boys in the Boat: Nine Americans and Their Epic Quest for Gold at the 1936 Berlin Olympics\n",
            "Price: Â£22.60\n",
            "\n",
            "Title: The Black Maria\n",
            "Price: Â£52.15\n",
            "\n",
            "Title: Starving Hearts (Triangular Trade Trilogy, #1)\n",
            "Price: Â£13.99\n",
            "\n",
            "Title: Shakespeare's Sonnets\n",
            "Price: Â£20.66\n",
            "\n",
            "Title: Set Me Free\n",
            "Price: Â£17.46\n",
            "\n",
            "Title: Scott Pilgrim's Precious Little Life (Scott Pilgrim #1)\n",
            "Price: Â£52.29\n",
            "\n",
            "Title: Rip it Up and Start Again\n",
            "Price: Â£35.02\n",
            "\n",
            "Title: Our Band Could Be Your Life: Scenes from the American Indie Underground, 1981-1991\n",
            "Price: Â£57.25\n",
            "\n",
            "Title: Olio\n",
            "Price: Â£23.88\n",
            "\n",
            "Title: Mesaerion: The Best Science Fiction Stories 1800-1849\n",
            "Price: Â£37.59\n",
            "\n",
            "Title: Libertarianism for Beginners\n",
            "Price: Â£51.33\n",
            "\n",
            "Title: It's Only the Himalayas\n",
            "Price: Â£45.17\n",
            "\n"
          ]
        }
      ]
    },
    {
      "cell_type": "code",
      "source": [
        "df = pd.DataFrame(book_data)\n",
        "\n"
      ],
      "metadata": {
        "id": "f4ziGH-IwyDx"
      },
      "execution_count": 15,
      "outputs": []
    },
    {
      "cell_type": "code",
      "source": [
        "print(df)"
      ],
      "metadata": {
        "colab": {
          "base_uri": "https://localhost:8080/"
        },
        "id": "BoBd03ojxAGS",
        "outputId": "df262fc6-2bb2-40b6-f645-e4349b2d3bab"
      },
      "execution_count": 16,
      "outputs": [
        {
          "output_type": "stream",
          "name": "stdout",
          "text": [
            "                                                Title    Price\n",
            "0                                A Light in the Attic  Â£51.77\n",
            "1                                  Tipping the Velvet  Â£53.74\n",
            "2                                          Soumission  Â£50.10\n",
            "3                                       Sharp Objects  Â£47.82\n",
            "4               Sapiens: A Brief History of Humankind  Â£54.23\n",
            "5                                     The Requiem Red  Â£22.65\n",
            "6   The Dirty Little Secrets of Getting Your Dream...  Â£33.34\n",
            "7   The Coming Woman: A Novel Based on the Life of...  Â£17.93\n",
            "8   The Boys in the Boat: Nine Americans and Their...  Â£22.60\n",
            "9                                     The Black Maria  Â£52.15\n",
            "10     Starving Hearts (Triangular Trade Trilogy, #1)  Â£13.99\n",
            "11                              Shakespeare's Sonnets  Â£20.66\n",
            "12                                        Set Me Free  Â£17.46\n",
            "13  Scott Pilgrim's Precious Little Life (Scott Pi...  Â£52.29\n",
            "14                          Rip it Up and Start Again  Â£35.02\n",
            "15  Our Band Could Be Your Life: Scenes from the A...  Â£57.25\n",
            "16                                               Olio  Â£23.88\n",
            "17  Mesaerion: The Best Science Fiction Stories 18...  Â£37.59\n",
            "18                       Libertarianism for Beginners  Â£51.33\n",
            "19                            It's Only the Himalayas  Â£45.17\n"
          ]
        }
      ]
    },
    {
      "cell_type": "code",
      "source": [
        "book1=df.iloc[0]\n",
        "book1\n",
        "top=df.head(6)"
      ],
      "metadata": {
        "id": "ORqV1GG2xJdj"
      },
      "execution_count": 17,
      "outputs": []
    },
    {
      "cell_type": "code",
      "source": [
        "book_data = []\n",
        "conversion_rate = 82"
      ],
      "metadata": {
        "id": "hKEYI_lvxxrV"
      },
      "execution_count": 18,
      "outputs": []
    },
    {
      "cell_type": "code",
      "source": [
        "for book in books:\n",
        "    title = book.h3.a['title']\n",
        "    price_dollars = book.find('p', class_='price_color').text\n"
      ],
      "metadata": {
        "id": "lGzCaxLa1Vpz"
      },
      "execution_count": 19,
      "outputs": []
    },
    {
      "cell_type": "code",
      "source": [
        "df['Price'] = df['Price'].str.replace('Â£', '').astype(float)"
      ],
      "metadata": {
        "id": "badwU2dD4Cwu"
      },
      "execution_count": 26,
      "outputs": []
    },
    {
      "cell_type": "code",
      "source": [
        "df['PriceInRupees'] = df['Price'] * 105"
      ],
      "metadata": {
        "id": "Wv13HzQT4t6e"
      },
      "execution_count": 27,
      "outputs": []
    },
    {
      "cell_type": "code",
      "source": [
        "print(df)"
      ],
      "metadata": {
        "colab": {
          "base_uri": "https://localhost:8080/"
        },
        "id": "QPTpdDlf4xJw",
        "outputId": "9c196f9f-f56b-488f-e7e4-4c025b64fa65"
      },
      "execution_count": 28,
      "outputs": [
        {
          "output_type": "stream",
          "name": "stdout",
          "text": [
            "                                                Title  Price  PriceInRupees\n",
            "0                                A Light in the Attic  51.77        5435.85\n",
            "1                                  Tipping the Velvet  53.74        5642.70\n",
            "2                                          Soumission  50.10        5260.50\n",
            "3                                       Sharp Objects  47.82        5021.10\n",
            "4               Sapiens: A Brief History of Humankind  54.23        5694.15\n",
            "5                                     The Requiem Red  22.65        2378.25\n",
            "6   The Dirty Little Secrets of Getting Your Dream...  33.34        3500.70\n",
            "7   The Coming Woman: A Novel Based on the Life of...  17.93        1882.65\n",
            "8   The Boys in the Boat: Nine Americans and Their...  22.60        2373.00\n",
            "9                                     The Black Maria  52.15        5475.75\n",
            "10     Starving Hearts (Triangular Trade Trilogy, #1)  13.99        1468.95\n",
            "11                              Shakespeare's Sonnets  20.66        2169.30\n",
            "12                                        Set Me Free  17.46        1833.30\n",
            "13  Scott Pilgrim's Precious Little Life (Scott Pi...  52.29        5490.45\n",
            "14                          Rip it Up and Start Again  35.02        3677.10\n",
            "15  Our Band Could Be Your Life: Scenes from the A...  57.25        6011.25\n",
            "16                                               Olio  23.88        2507.40\n",
            "17  Mesaerion: The Best Science Fiction Stories 18...  37.59        3946.95\n",
            "18                       Libertarianism for Beginners  51.33        5389.65\n",
            "19                            It's Only the Himalayas  45.17        4742.85\n"
          ]
        }
      ]
    },
    {
      "cell_type": "code",
      "source": [],
      "metadata": {
        "id": "uDwHbyhH40PH"
      },
      "execution_count": null,
      "outputs": []
    }
  ]
}