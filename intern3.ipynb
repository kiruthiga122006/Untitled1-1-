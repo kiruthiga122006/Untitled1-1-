{
  "nbformat": 4,
  "nbformat_minor": 0,
  "metadata": {
    "colab": {
      "provenance": []
    },
    "kernelspec": {
      "name": "python3",
      "display_name": "Python 3"
    },
    "language_info": {
      "name": "python"
    }
  },
  "cells": [
    {
      "cell_type": "code",
      "execution_count": 1,
      "metadata": {
        "id": "NqQUM4HvXt7s"
      },
      "outputs": [],
      "source": [
        "import numpy as np"
      ]
    },
    {
      "cell_type": "code",
      "source": [
        "import pandas as pd"
      ],
      "metadata": {
        "id": "UXtxEd4eXvoZ"
      },
      "execution_count": 2,
      "outputs": []
    },
    {
      "cell_type": "code",
      "source": [
        "np.random.seed(42)"
      ],
      "metadata": {
        "id": "xSjvO-z3YDrn"
      },
      "execution_count": 3,
      "outputs": []
    },
    {
      "cell_type": "code",
      "source": [
        "employee_ids = [f\"EMP_{i:03d}\" for i in range (1,31)]"
      ],
      "metadata": {
        "id": "hLP-DdVvYKGI"
      },
      "execution_count": 6,
      "outputs": []
    },
    {
      "cell_type": "code",
      "source": [
        "dates = pd. date_range(\"2025-07-01\",periods=30, freq=\"D\")"
      ],
      "metadata": {
        "id": "-N7nokszYdR2"
      },
      "execution_count": 8,
      "outputs": []
    },
    {
      "cell_type": "code",
      "source": [
        "data = {\n",
        "\n",
        "            \"Date\": np.tile(dates, len(employee_ids)),\n",
        "            \"Employee_ID\" : np.repeat(employee_ids, len(dates)),\n",
        "            \"Working_Hours\": np.random.uniform(4, 10, size=len(dates)\n",
        "* len(employee_ids)).round(2)\n",
        "\n",
        "}"
      ],
      "metadata": {
        "id": "tg9mtYRGY617"
      },
      "execution_count": 11,
      "outputs": []
    },
    {
      "cell_type": "code",
      "source": [
        "df = pd.DataFrame(data)"
      ],
      "metadata": {
        "id": "evHx3Fi1ZTGK"
      },
      "execution_count": 12,
      "outputs": []
    },
    {
      "cell_type": "code",
      "source": [
        "df.to_csv(\"employee_working_hours.csv\", index=False)"
      ],
      "metadata": {
        "id": "4bfOLpVbZw0S"
      },
      "execution_count": 13,
      "outputs": []
    },
    {
      "cell_type": "code",
      "source": [
        "df_csv = pd.read_csv(\"employee_working_hours.csv\")"
      ],
      "metadata": {
        "id": "o0UDeGOsaFab"
      },
      "execution_count": 14,
      "outputs": []
    },
    {
      "cell_type": "code",
      "source": [
        "print(df_csv.head())\n",
        "print(df_csv.describe())\n",
        "print(df_csv[\"Employee_ID\"].nunique())"
      ],
      "metadata": {
        "colab": {
          "base_uri": "https://localhost:8080/"
        },
        "id": "a26Ne4WzaMqp",
        "outputId": "55bf8e5d-dfed-42e1-ce7c-dc3d3d3b812c"
      },
      "execution_count": 20,
      "outputs": [
        {
          "output_type": "stream",
          "name": "stdout",
          "text": [
            "         Date Employee_ID  Working_Hours\n",
            "0  2025-07-01     EMP_001           6.25\n",
            "1  2025-07-02     EMP_001           9.70\n",
            "2  2025-07-03     EMP_001           8.39\n",
            "3  2025-07-04     EMP_001           7.59\n",
            "4  2025-07-05     EMP_001           4.94\n",
            "       Working_Hours\n",
            "count     900.000000\n",
            "mean        6.954233\n",
            "std         1.762088\n",
            "min         4.030000\n",
            "25%         5.387500\n",
            "50%         7.010000\n",
            "75%         8.490000\n",
            "max        10.000000\n",
            "30\n"
          ]
        }
      ]
    },
    {
      "cell_type": "code",
      "source": [
        "total_hours = df_csv.groupby(\"Employee_ID\")[\"Working_Hours\"].sum().sort_values(ascending=False)"
      ],
      "metadata": {
        "id": "m4FCAtoNaVjo"
      },
      "execution_count": 22,
      "outputs": []
    },
    {
      "cell_type": "code",
      "source": [
        "avg_daily = df_csv.groupby(\"Employee_ID\")[\"Working_Hours\"].mean()"
      ],
      "metadata": {
        "id": "GTyHPszabyw7"
      },
      "execution_count": 23,
      "outputs": []
    },
    {
      "cell_type": "code",
      "source": [
        "threshold_low = 5\n",
        "threshold_high = 9"
      ],
      "metadata": {
        "id": "FgxSMmp6cNz4"
      },
      "execution_count": 24,
      "outputs": []
    },
    {
      "cell_type": "code",
      "source": [
        "df_csv[\"Low_Hour_Flag\"] = df_csv[\"Working_Hours\"] < threshold_low\n",
        "df_csv[\"High_Hour_Flag\"]=df_csv[\"Working_Hours\"] > threshold_high"
      ],
      "metadata": {
        "id": "k2Rn4v3jcRPx"
      },
      "execution_count": 26,
      "outputs": []
    },
    {
      "cell_type": "code",
      "source": [
        "print(df_csv[df_csv[\"Low_Hour_Flag\"] | df_csv[\"High_Hour_Flag\"]].head())"
      ],
      "metadata": {
        "colab": {
          "base_uri": "https://localhost:8080/"
        },
        "id": "B1KzFhr2cfTg",
        "outputId": "1adaead9-1a87-478b-febb-14b484a5e16f"
      },
      "execution_count": 30,
      "outputs": [
        {
          "output_type": "stream",
          "name": "stdout",
          "text": [
            "         Date Employee_ID  Working_Hours  Low_Hour_Flag  High_Hour_Flag\n",
            "1  2025-07-02     EMP_001           9.70          False            True\n",
            "4  2025-07-05     EMP_001           4.94           True           False\n",
            "5  2025-07-06     EMP_001           4.94           True           False\n",
            "6  2025-07-07     EMP_001           4.35           True           False\n",
            "7  2025-07-08     EMP_001           9.20          False            True\n"
          ]
        }
      ]
    },
    {
      "cell_type": "code",
      "source": [
        "import matplotlib.pyplot as plt"
      ],
      "metadata": {
        "id": "vw9CFR__csgw"
      },
      "execution_count": 31,
      "outputs": []
    },
    {
      "cell_type": "code",
      "source": [
        "import seaborn as sns"
      ],
      "metadata": {
        "id": "IGz8lT7ec6yR"
      },
      "execution_count": 32,
      "outputs": []
    },
    {
      "cell_type": "code",
      "source": [
        "top10 = total_hours.head(10)\n",
        "plt.figure(figsize=(10,5))\n",
        "sns.barplot(x=top10.index, y=top10.values)\n",
        "plt.xticks(rotation=45)\n",
        "plt.title(\"Top 10 Employees by Total working Hours\")\n",
        "plt.ylabel(\"Hours\")\n",
        "plt.tight_layout()\n",
        "plt.show()"
      ],
      "metadata": {
        "colab": {
          "base_uri": "https://localhost:8080/",
          "height": 329
        },
        "id": "Z-e2YeS3c_C4",
        "outputId": "0c4ed5eb-6456-4226-b239-2d4fa682d4c8"
      },
      "execution_count": 33,
      "outputs": [
        {
          "output_type": "display_data",
          "data": {
            "text/plain": [
              "<Figure size 1000x500 with 1 Axes>"
            ],
            "image/png": "[encoded data removed]"
          },
          "metadata": {}
        }
      ]
    },
    {
      "cell_type": "code",
      "source": [],
      "metadata": {
        "id": "tXwBglSpdK3H"
      },
      "execution_count": null,
      "outputs": []
    }
  ]
}