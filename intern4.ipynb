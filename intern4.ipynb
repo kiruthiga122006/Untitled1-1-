{
  "nbformat": 4,
  "nbformat_minor": 0,
  "metadata": {
    "colab": {
      "provenance": []
    },
    "kernelspec": {
      "name": "python3",
      "display_name": "Python 3"
    },
    "language_info": {
      "name": "python"
    }
  },
  "cells": [
    {
      "cell_type": "code",
      "execution_count": 1,
      "metadata": {
        "id": "zCEIZGP-loj4"
      },
      "outputs": [],
      "source": [
        "#pip install beautifulsoup4\n"
      ]
    },
    {
      "cell_type": "code",
      "source": [
        "#pip install beautifulsoup4 requests\n"
      ],
      "metadata": {
        "id": "-Vs5NY96lurX"
      },
      "execution_count": 2,
      "outputs": []
    },
    {
      "cell_type": "code",
      "source": [
        "import requests\n",
        "\n"
      ],
      "metadata": {
        "id": "simevIDPl1iw"
      },
      "execution_count": 3,
      "outputs": []
    },
    {
      "cell_type": "code",
      "source": [
        "from bs4 import BeautifulSoup\n"
      ],
      "metadata": {
        "id": "E_BRUz3bmUrE"
      },
      "execution_count": 4,
      "outputs": []
    },
    {
      "cell_type": "code",
      "source": [
        "# Target URL\n",
        "url = \"http://books.toscrape.com\"\n",
        "\n"
      ],
      "metadata": {
        "id": "8gZ_D0FBmY5j"
      },
      "execution_count": 6,
      "outputs": []
    },
    {
      "cell_type": "code",
      "source": [
        "# Send a GET request\n",
        "response = requests.get(url)\n"
      ],
      "metadata": {
        "id": "gVw1zgz-mibZ"
      },
      "execution_count": 7,
      "outputs": []
    },
    {
      "cell_type": "code",
      "source": [
        "# Parse the HTML\n",
        "soup = BeautifulSoup(response.text, 'html.parser')\n"
      ],
      "metadata": {
        "id": "NNfAwDwvsC3w"
      },
      "execution_count": 8,
      "outputs": []
    },
    {
      "cell_type": "code",
      "source": [
        "# Find all book containers\n",
        "books = soup.find_all('article', class_='product_pod')\n",
        "\n"
      ],
      "metadata": {
        "id": "3t-tVZBPsHB9"
      },
      "execution_count": 9,
      "outputs": []
    },
    {
      "cell_type": "code",
      "source": [
        "for book in books:\n",
        "    title = book.h3.a['title']\n",
        "    price = book.find('p', class_='price_color').text\n",
        "    print(f\"Title: {title}\\nPrice: {price}\\n\")"
      ],
      "metadata": {
        "colab": {
          "base_uri": "https://localhost:8080/"
        },
        "id": "ZvXCDliYsO2d",
        "outputId": "d94603e7-24be-4237-dfdf-daaaaf72ca20"
      },
      "execution_count": 10,
      "outputs": [
        {
          "output_type": "stream",
          "name": "stdout",
          "text": [
            "Title: A Light in the Attic\n",
            "Price: Â£51.77\n",
            "\n",
            "Title: Tipping the Velvet\n",
            "Price: Â£53.74\n",
            "\n",
            "Title: Soumission\n",
            "Price: Â£50.10\n",
            "\n",
            "Title: Sharp Objects\n",
            "Price: Â£47.82\n",
            "\n",
            "Title: Sapiens: A Brief History of Humankind\n",
            "Price: Â£54.23\n",
            "\n",
            "Title: The Requiem Red\n",
            "Price: Â£22.65\n",
            "\n",
            "Title: The Dirty Little Secrets of Getting Your Dream Job\n",
            "Price: Â£33.34\n",
            "\n",
            "Title: The Coming Woman: A Novel Based on the Life of the Infamous Feminist, Victoria Woodhull\n",
            "Price: Â£17.93\n",
            "\n",
            "Title: The Boys in the Boat: Nine Americans and Their Epic Quest for Gold at the 1936 Berlin Olympics\n",
            "Price: Â£22.60\n",
            "\n",
            "Title: The Black Maria\n",
            "Price: Â£52.15\n",
            "\n",
            "Title: Starving Hearts (Triangular Trade Trilogy, #1)\n",
            "Price: Â£13.99\n",
            "\n",
            "Title: Shakespeare's Sonnets\n",
            "Price: Â£20.66\n",
            "\n",
            "Title: Set Me Free\n",
            "Price: Â£17.46\n",
            "\n",
            "Title: Scott Pilgrim's Precious Little Life (Scott Pilgrim #1)\n",
            "Price: Â£52.29\n",
            "\n",
            "Title: Rip it Up and Start Again\n",
            "Price: Â£35.02\n",
            "\n",
            "Title: Our Band Could Be Your Life: Scenes from the American Indie Underground, 1981-1991\n",
            "Price: Â£57.25\n",
            "\n",
            "Title: Olio\n",
            "Price: Â£23.88\n",
            "\n",
            "Title: Mesaerion: The Best Science Fiction Stories 1800-1849\n",
            "Price: Â£37.59\n",
            "\n",
            "Title: Libertarianism for Beginners\n",
            "Price: Â£51.33\n",
            "\n",
            "Title: It's Only the Himalayas\n",
            "Price: Â£45.17\n",
            "\n"
          ]
        }
      ]
    },
    {
      "cell_type": "code",
      "source": [],
      "metadata": {
        "id": "SwuCpT6Sse7r"
      },
      "execution_count": null,
      "outputs": []
    }
  ]
}