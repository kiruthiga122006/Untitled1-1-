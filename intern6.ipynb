{
  "nbformat": 4,
  "nbformat_minor": 0,
  "metadata": {
    "colab": {
      "provenance": []
    },
    "kernelspec": {
      "name": "python3",
      "display_name": "Python 3"
    },
    "language_info": {
      "name": "python"
    }
  },
  "cells": [
    {
      "cell_type": "code",
      "execution_count": 1,
      "metadata": {
        "id": "R2e4SQ0ENcpu"
      },
      "outputs": [],
      "source": [
        "import numpy as np\n"
      ]
    },
    {
      "cell_type": "code",
      "source": [
        "input_ids = np.array([0, 0, 3, 0, 2, 4, 2, 2, 2, 2])\n"
      ],
      "metadata": {
        "id": "G-_P0b1wNo8h"
      },
      "execution_count": 2,
      "outputs": []
    },
    {
      "cell_type": "code",
      "source": [
        "duplicates = np.zeros(len(input_ids), dtype=bool)\n"
      ],
      "metadata": {
        "id": "qPq5ggedN50b"
      },
      "execution_count": 3,
      "outputs": []
    },
    {
      "cell_type": "code",
      "source": [
        "seen = set()\n"
      ],
      "metadata": {
        "id": "IYdU212KN9Mb"
      },
      "execution_count": 4,
      "outputs": []
    },
    {
      "cell_type": "code",
      "source": [
        "for idx, val in enumerate(input_ids):\n",
        "    if val in seen:\n",
        "        duplicates[idx] = True\n",
        "    else:\n",
        "        seen.add(val)\n"
      ],
      "metadata": {
        "id": "lgAPevQ5N_wC"
      },
      "execution_count": 5,
      "outputs": []
    },
    {
      "cell_type": "code",
      "source": [
        "print(duplicates)"
      ],
      "metadata": {
        "colab": {
          "base_uri": "https://localhost:8080/"
        },
        "id": "NQVYh8wWOHiS",
        "outputId": "cfe237a4-8625-4747-ddc9-d71629629d5a"
      },
      "execution_count": 6,
      "outputs": [
        {
          "output_type": "stream",
          "name": "stdout",
          "text": [
            "[False  True False  True False False  True  True  True  True]\n"
          ]
        }
      ]
    },
    {
      "cell_type": "code",
      "source": [],
      "metadata": {
        "id": "-hETlw7aOLTD"
      },
      "execution_count": null,
      "outputs": []
    }
  ]
}